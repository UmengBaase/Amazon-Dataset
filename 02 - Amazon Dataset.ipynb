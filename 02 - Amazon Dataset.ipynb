{
 "cells": [
  {
   "cell_type": "markdown",
   "id": "11d9e334",
   "metadata": {},
   "source": [
    "# Performing Exploratory Data Analysis on Amazon Dataset"
   ]
  },
  {
   "cell_type": "markdown",
   "id": "2d36180d",
   "metadata": {},
   "source": [
    "### Steps to take when performing exploratory Data Analysis\n",
    "\n",
    "Exploratory data analysis (EDA) is a crucial step in any data analysis project. It involves examining and analyzing data to gain insights into its structure, characteristics, and patterns. EDA helps data analysts and scientists understand their data better, identify potential issues, and formulate hypotheses for further investigation.\n",
    "\n",
    "Here's a step-by-step guide to performing exploratory data analysis:\n",
    "\n",
    "1. **Define your goals and questions:** Before diving into the data, clearly define the purpose of your EDA and the questions you want to answer. This will guide your exploration and ensure you focus on relevant aspects of the data.\n",
    "\n",
    "2. **Data Import and Cleaning:** Import your data into an appropriate data analysis environment, such as Python with the pandas library or R with the dplyr package. Check for missing values, data types, and inconsistencies. Clean the data by removing missing values, handling outliers, and correcting data formatting errors.\n",
    "\n",
    "3. **Data Summary and Overview:** Get a general idea of your data by summarizing numerical variables (mean, median, standard deviation) and categorical variables (frequency counts). Use descriptive statistics to understand the distribution, central tendency, and variability of your variables.\n",
    "\n",
    "4. **Univariate Analysis:** Explore each variable individually to understand its characteristics and distribution. For numerical variables, use histograms, boxplots, and quantile-quantile (Q-Q) plots to visualize the distribution, identify outliers, and assess normality. For categorical variables, use bar charts, pie charts, and frequency tables to understand the distribution of categories and identify patterns.\n",
    "\n",
    "5. **Bivariate Analysis:** Examine relationships between two variables. For numerical variables, use scatter plots to visualize the correlation between variables. For categorical variables, use contingency tables or cross-tabulations to identify associations between categories.\n",
    "\n",
    "6. **Multivariate Analysis:** Explore relationships between multiple variables. Use techniques like correlation matrices, principal component analysis (PCA), and cluster analysis to identify patterns and relationships among multiple variables.\n",
    "\n",
    "7. **Data Visualization:** Throughout the EDA process, use data visualization techniques to effectively communicate your findings. Choose appropriate charts, graphs, and plots to represent the data clearly and concisely.\n",
    "\n",
    "8. **Documentation and Reporting:** Document your EDA process, including the steps taken, observations made, and insights gained. Create a report or presentation that summarizes your findings and communicates them effectively to stakeholders.\n",
    "\n",
    "Remember, EDA is an iterative process, and you may need to revisit previous steps as you gain new insights and refine your understanding of the data. The key is to be curious, explore the data thoroughly, and document your findings systematically."
   ]
  },
  {
   "cell_type": "code",
   "execution_count": 1,
   "id": "59b1fd24",
   "metadata": {},
   "outputs": [],
   "source": [
    "import numpy as np\n",
    "import pandas as pd\n",
    "import matplotlib.pyplot as plt\n",
    "import seaborn as sns"
   ]
  },
  {
   "cell_type": "code",
   "execution_count": 2,
   "id": "ceb59a4d",
   "metadata": {},
   "outputs": [],
   "source": [
    "amazon_sales = pd.read_csv('Datasets/amazon.csv')"
   ]
  },
  {
   "cell_type": "code",
   "execution_count": 3,
   "id": "479c30c1",
   "metadata": {},
   "outputs": [],
   "source": [
    "df = amazon_sales.copy()"
   ]
  },
  {
   "cell_type": "code",
   "execution_count": 5,
   "id": "d698ef00",
   "metadata": {},
   "outputs": [
    {
     "data": {
      "text/html": [
       "<div>\n",
       "<style scoped>\n",
       "    .dataframe tbody tr th:only-of-type {\n",
       "        vertical-align: middle;\n",
       "    }\n",
       "\n",
       "    .dataframe tbody tr th {\n",
       "        vertical-align: top;\n",
       "    }\n",
       "\n",
       "    .dataframe thead th {\n",
       "        text-align: right;\n",
       "    }\n",
       "</style>\n",
       "<table border=\"1\" class=\"dataframe\">\n",
       "  <thead>\n",
       "    <tr style=\"text-align: right;\">\n",
       "      <th></th>\n",
       "      <th>product_id</th>\n",
       "      <th>product_name</th>\n",
       "      <th>category</th>\n",
       "      <th>discounted_price</th>\n",
       "      <th>actual_price</th>\n",
       "      <th>discount_percentage</th>\n",
       "      <th>rating</th>\n",
       "      <th>rating_count</th>\n",
       "      <th>about_product</th>\n",
       "      <th>user_id</th>\n",
       "      <th>user_name</th>\n",
       "      <th>review_id</th>\n",
       "      <th>review_title</th>\n",
       "      <th>review_content</th>\n",
       "      <th>img_link</th>\n",
       "      <th>product_link</th>\n",
       "    </tr>\n",
       "  </thead>\n",
       "  <tbody>\n",
       "    <tr>\n",
       "      <th>0</th>\n",
       "      <td>B07JW9H4J1</td>\n",
       "      <td>Wayona Nylon Braided USB to Lightning Fast Cha...</td>\n",
       "      <td>Computers&amp;Accessories|Accessories&amp;Peripherals|...</td>\n",
       "      <td>₹399</td>\n",
       "      <td>₹1,099</td>\n",
       "      <td>64%</td>\n",
       "      <td>4.2</td>\n",
       "      <td>24,269</td>\n",
       "      <td>High Compatibility : Compatible With iPhone 12...</td>\n",
       "      <td>AG3D6O4STAQKAY2UVGEUV46KN35Q,AHMY5CWJMMK5BJRBB...</td>\n",
       "      <td>Manav,Adarsh gupta,Sundeep,S.Sayeed Ahmed,jasp...</td>\n",
       "      <td>R3HXWT0LRP0NMF,R2AJM3LFTLZHFO,R6AQJGUP6P86,R1K...</td>\n",
       "      <td>Satisfied,Charging is really fast,Value for mo...</td>\n",
       "      <td>Looks durable Charging is fine tooNo complains...</td>\n",
       "      <td>https://m.media-amazon.com/images/W/WEBP_40237...</td>\n",
       "      <td>https://www.amazon.in/Wayona-Braided-WN3LG1-Sy...</td>\n",
       "    </tr>\n",
       "    <tr>\n",
       "      <th>1</th>\n",
       "      <td>B098NS6PVG</td>\n",
       "      <td>Ambrane Unbreakable 60W / 3A Fast Charging 1.5...</td>\n",
       "      <td>Computers&amp;Accessories|Accessories&amp;Peripherals|...</td>\n",
       "      <td>₹199</td>\n",
       "      <td>₹349</td>\n",
       "      <td>43%</td>\n",
       "      <td>4.0</td>\n",
       "      <td>43,994</td>\n",
       "      <td>Compatible with all Type C enabled devices, be...</td>\n",
       "      <td>AECPFYFQVRUWC3KGNLJIOREFP5LQ,AGYYVPDD7YG7FYNBX...</td>\n",
       "      <td>ArdKn,Nirbhay kumar,Sagar Viswanathan,Asp,Plac...</td>\n",
       "      <td>RGIQEG07R9HS2,R1SMWZQ86XIN8U,R2J3Y1WL29GWDE,RY...</td>\n",
       "      <td>A Good Braided Cable for Your Type C Device,Go...</td>\n",
       "      <td>I ordered this cable to connect my phone to An...</td>\n",
       "      <td>https://m.media-amazon.com/images/W/WEBP_40237...</td>\n",
       "      <td>https://www.amazon.in/Ambrane-Unbreakable-Char...</td>\n",
       "    </tr>\n",
       "    <tr>\n",
       "      <th>2</th>\n",
       "      <td>B096MSW6CT</td>\n",
       "      <td>Sounce Fast Phone Charging Cable &amp; Data Sync U...</td>\n",
       "      <td>Computers&amp;Accessories|Accessories&amp;Peripherals|...</td>\n",
       "      <td>₹199</td>\n",
       "      <td>₹1,899</td>\n",
       "      <td>90%</td>\n",
       "      <td>3.9</td>\n",
       "      <td>7,928</td>\n",
       "      <td>【 Fast Charger&amp; Data Sync】-With built-in safet...</td>\n",
       "      <td>AGU3BBQ2V2DDAMOAKGFAWDDQ6QHA,AESFLDV2PT363T2AQ...</td>\n",
       "      <td>Kunal,Himanshu,viswanath,sai niharka,saqib mal...</td>\n",
       "      <td>R3J3EQQ9TZI5ZJ,R3E7WBGK7ID0KV,RWU79XKQ6I1QF,R2...</td>\n",
       "      <td>Good speed for earlier versions,Good Product,W...</td>\n",
       "      <td>Not quite durable and sturdy,https://m.media-a...</td>\n",
       "      <td>https://m.media-amazon.com/images/W/WEBP_40237...</td>\n",
       "      <td>https://www.amazon.in/Sounce-iPhone-Charging-C...</td>\n",
       "    </tr>\n",
       "  </tbody>\n",
       "</table>\n",
       "</div>"
      ],
      "text/plain": [
       "   product_id                                       product_name  \\\n",
       "0  B07JW9H4J1  Wayona Nylon Braided USB to Lightning Fast Cha...   \n",
       "1  B098NS6PVG  Ambrane Unbreakable 60W / 3A Fast Charging 1.5...   \n",
       "2  B096MSW6CT  Sounce Fast Phone Charging Cable & Data Sync U...   \n",
       "\n",
       "                                            category discounted_price  \\\n",
       "0  Computers&Accessories|Accessories&Peripherals|...             ₹399   \n",
       "1  Computers&Accessories|Accessories&Peripherals|...             ₹199   \n",
       "2  Computers&Accessories|Accessories&Peripherals|...             ₹199   \n",
       "\n",
       "  actual_price discount_percentage rating rating_count  \\\n",
       "0       ₹1,099                 64%    4.2       24,269   \n",
       "1         ₹349                 43%    4.0       43,994   \n",
       "2       ₹1,899                 90%    3.9        7,928   \n",
       "\n",
       "                                       about_product  \\\n",
       "0  High Compatibility : Compatible With iPhone 12...   \n",
       "1  Compatible with all Type C enabled devices, be...   \n",
       "2  【 Fast Charger& Data Sync】-With built-in safet...   \n",
       "\n",
       "                                             user_id  \\\n",
       "0  AG3D6O4STAQKAY2UVGEUV46KN35Q,AHMY5CWJMMK5BJRBB...   \n",
       "1  AECPFYFQVRUWC3KGNLJIOREFP5LQ,AGYYVPDD7YG7FYNBX...   \n",
       "2  AGU3BBQ2V2DDAMOAKGFAWDDQ6QHA,AESFLDV2PT363T2AQ...   \n",
       "\n",
       "                                           user_name  \\\n",
       "0  Manav,Adarsh gupta,Sundeep,S.Sayeed Ahmed,jasp...   \n",
       "1  ArdKn,Nirbhay kumar,Sagar Viswanathan,Asp,Plac...   \n",
       "2  Kunal,Himanshu,viswanath,sai niharka,saqib mal...   \n",
       "\n",
       "                                           review_id  \\\n",
       "0  R3HXWT0LRP0NMF,R2AJM3LFTLZHFO,R6AQJGUP6P86,R1K...   \n",
       "1  RGIQEG07R9HS2,R1SMWZQ86XIN8U,R2J3Y1WL29GWDE,RY...   \n",
       "2  R3J3EQQ9TZI5ZJ,R3E7WBGK7ID0KV,RWU79XKQ6I1QF,R2...   \n",
       "\n",
       "                                        review_title  \\\n",
       "0  Satisfied,Charging is really fast,Value for mo...   \n",
       "1  A Good Braided Cable for Your Type C Device,Go...   \n",
       "2  Good speed for earlier versions,Good Product,W...   \n",
       "\n",
       "                                      review_content  \\\n",
       "0  Looks durable Charging is fine tooNo complains...   \n",
       "1  I ordered this cable to connect my phone to An...   \n",
       "2  Not quite durable and sturdy,https://m.media-a...   \n",
       "\n",
       "                                            img_link  \\\n",
       "0  https://m.media-amazon.com/images/W/WEBP_40237...   \n",
       "1  https://m.media-amazon.com/images/W/WEBP_40237...   \n",
       "2  https://m.media-amazon.com/images/W/WEBP_40237...   \n",
       "\n",
       "                                        product_link  \n",
       "0  https://www.amazon.in/Wayona-Braided-WN3LG1-Sy...  \n",
       "1  https://www.amazon.in/Ambrane-Unbreakable-Char...  \n",
       "2  https://www.amazon.in/Sounce-iPhone-Charging-C...  "
      ]
     },
     "execution_count": 5,
     "metadata": {},
     "output_type": "execute_result"
    }
   ],
   "source": [
    "df.head(3)"
   ]
  },
  {
   "cell_type": "code",
   "execution_count": 6,
   "id": "c0f49658",
   "metadata": {},
   "outputs": [
    {
     "name": "stdout",
     "output_type": "stream",
     "text": [
      "<class 'pandas.core.frame.DataFrame'>\n",
      "RangeIndex: 1465 entries, 0 to 1464\n",
      "Data columns (total 16 columns):\n",
      " #   Column               Non-Null Count  Dtype \n",
      "---  ------               --------------  ----- \n",
      " 0   product_id           1465 non-null   object\n",
      " 1   product_name         1465 non-null   object\n",
      " 2   category             1465 non-null   object\n",
      " 3   discounted_price     1465 non-null   object\n",
      " 4   actual_price         1465 non-null   object\n",
      " 5   discount_percentage  1465 non-null   object\n",
      " 6   rating               1465 non-null   object\n",
      " 7   rating_count         1463 non-null   object\n",
      " 8   about_product        1465 non-null   object\n",
      " 9   user_id              1465 non-null   object\n",
      " 10  user_name            1465 non-null   object\n",
      " 11  review_id            1465 non-null   object\n",
      " 12  review_title         1465 non-null   object\n",
      " 13  review_content       1465 non-null   object\n",
      " 14  img_link             1465 non-null   object\n",
      " 15  product_link         1465 non-null   object\n",
      "dtypes: object(16)\n",
      "memory usage: 183.3+ KB\n"
     ]
    }
   ],
   "source": [
    "df.info()"
   ]
  },
  {
   "cell_type": "markdown",
   "id": "3cd2717f",
   "metadata": {},
   "source": [
    "### Questions\n",
    "\n",
    "1. Which category generated the most sales?\n",
    "2. Which products attracts most customers?\n",
    "3. What products has the highest rating?\n",
    "4. What product has the highest sales?\n",
    "5. Which product has the lowest sales?\n",
    "6. products with the highest and lowest percentage discounts?"
   ]
  },
  {
   "cell_type": "markdown",
   "id": "ea60a7f5",
   "metadata": {},
   "source": [
    "### Data Cleaning"
   ]
  },
  {
   "cell_type": "markdown",
   "id": "43ba5cd0",
   "metadata": {},
   "source": [
    "#### Remove irrelevant columns"
   ]
  },
  {
   "cell_type": "code",
   "execution_count": 15,
   "id": "72a493c3",
   "metadata": {},
   "outputs": [],
   "source": [
    "df1 = df[['product_name', 'category', 'discounted_price',\n",
    "       'actual_price', 'discount_percentage', 'rating', 'rating_count',\n",
    "       'user_name']]"
   ]
  },
  {
   "cell_type": "code",
   "execution_count": 10,
   "id": "caab5aeb",
   "metadata": {},
   "outputs": [
    {
     "data": {
      "text/plain": [
       "Index(['product_id', 'product_name', 'category', 'discounted_price',\n",
       "       'actual_price', 'discount_percentage', 'rating', 'rating_count',\n",
       "       'about_product', 'user_id', 'user_name', 'review_id', 'review_title',\n",
       "       'review_content', 'img_link', 'product_link'],\n",
       "      dtype='object')"
      ]
     },
     "execution_count": 10,
     "metadata": {},
     "output_type": "execute_result"
    }
   ],
   "source": [
    "df.columns"
   ]
  },
  {
   "cell_type": "code",
   "execution_count": 16,
   "id": "6763e4fb",
   "metadata": {},
   "outputs": [
    {
     "data": {
      "text/html": [
       "<div>\n",
       "<style scoped>\n",
       "    .dataframe tbody tr th:only-of-type {\n",
       "        vertical-align: middle;\n",
       "    }\n",
       "\n",
       "    .dataframe tbody tr th {\n",
       "        vertical-align: top;\n",
       "    }\n",
       "\n",
       "    .dataframe thead th {\n",
       "        text-align: right;\n",
       "    }\n",
       "</style>\n",
       "<table border=\"1\" class=\"dataframe\">\n",
       "  <thead>\n",
       "    <tr style=\"text-align: right;\">\n",
       "      <th></th>\n",
       "      <th>product_name</th>\n",
       "      <th>category</th>\n",
       "      <th>discounted_price</th>\n",
       "      <th>actual_price</th>\n",
       "      <th>discount_percentage</th>\n",
       "      <th>rating</th>\n",
       "      <th>rating_count</th>\n",
       "      <th>user_name</th>\n",
       "    </tr>\n",
       "  </thead>\n",
       "  <tbody>\n",
       "    <tr>\n",
       "      <th>0</th>\n",
       "      <td>Wayona Nylon Braided USB to Lightning Fast Cha...</td>\n",
       "      <td>Computers&amp;Accessories|Accessories&amp;Peripherals|...</td>\n",
       "      <td>₹399</td>\n",
       "      <td>₹1,099</td>\n",
       "      <td>64%</td>\n",
       "      <td>4.2</td>\n",
       "      <td>24,269</td>\n",
       "      <td>Manav,Adarsh gupta,Sundeep,S.Sayeed Ahmed,jasp...</td>\n",
       "    </tr>\n",
       "    <tr>\n",
       "      <th>1</th>\n",
       "      <td>Ambrane Unbreakable 60W / 3A Fast Charging 1.5...</td>\n",
       "      <td>Computers&amp;Accessories|Accessories&amp;Peripherals|...</td>\n",
       "      <td>₹199</td>\n",
       "      <td>₹349</td>\n",
       "      <td>43%</td>\n",
       "      <td>4.0</td>\n",
       "      <td>43,994</td>\n",
       "      <td>ArdKn,Nirbhay kumar,Sagar Viswanathan,Asp,Plac...</td>\n",
       "    </tr>\n",
       "  </tbody>\n",
       "</table>\n",
       "</div>"
      ],
      "text/plain": [
       "                                        product_name  \\\n",
       "0  Wayona Nylon Braided USB to Lightning Fast Cha...   \n",
       "1  Ambrane Unbreakable 60W / 3A Fast Charging 1.5...   \n",
       "\n",
       "                                            category discounted_price  \\\n",
       "0  Computers&Accessories|Accessories&Peripherals|...             ₹399   \n",
       "1  Computers&Accessories|Accessories&Peripherals|...             ₹199   \n",
       "\n",
       "  actual_price discount_percentage rating rating_count  \\\n",
       "0       ₹1,099                 64%    4.2       24,269   \n",
       "1         ₹349                 43%    4.0       43,994   \n",
       "\n",
       "                                           user_name  \n",
       "0  Manav,Adarsh gupta,Sundeep,S.Sayeed Ahmed,jasp...  \n",
       "1  ArdKn,Nirbhay kumar,Sagar Viswanathan,Asp,Plac...  "
      ]
     },
     "execution_count": 16,
     "metadata": {},
     "output_type": "execute_result"
    }
   ],
   "source": [
    "df1.head(2)"
   ]
  },
  {
   "cell_type": "code",
   "execution_count": 19,
   "id": "0bfdeaa2",
   "metadata": {},
   "outputs": [
    {
     "data": {
      "text/plain": [
       "85"
      ]
     },
     "execution_count": 19,
     "metadata": {},
     "output_type": "execute_result"
    }
   ],
   "source": [
    "# Check for duplicate values\n",
    "df1.duplicated().sum()"
   ]
  },
  {
   "cell_type": "code",
   "execution_count": 20,
   "id": "4e6c8b5e",
   "metadata": {},
   "outputs": [],
   "source": [
    "# Remove duplicate values\n",
    "df2 = df1.drop_duplicates()"
   ]
  },
  {
   "cell_type": "code",
   "execution_count": 21,
   "id": "49860ea8",
   "metadata": {},
   "outputs": [
    {
     "data": {
      "text/plain": [
       "0"
      ]
     },
     "execution_count": 21,
     "metadata": {},
     "output_type": "execute_result"
    }
   ],
   "source": [
    "df2.duplicated().sum()"
   ]
  },
  {
   "cell_type": "code",
   "execution_count": 22,
   "id": "710f9e66",
   "metadata": {},
   "outputs": [
    {
     "name": "stdout",
     "output_type": "stream",
     "text": [
      "<class 'pandas.core.frame.DataFrame'>\n",
      "Int64Index: 1380 entries, 0 to 1464\n",
      "Data columns (total 8 columns):\n",
      " #   Column               Non-Null Count  Dtype \n",
      "---  ------               --------------  ----- \n",
      " 0   product_name         1380 non-null   object\n",
      " 1   category             1380 non-null   object\n",
      " 2   discounted_price     1380 non-null   object\n",
      " 3   actual_price         1380 non-null   object\n",
      " 4   discount_percentage  1380 non-null   object\n",
      " 5   rating               1380 non-null   object\n",
      " 6   rating_count         1378 non-null   object\n",
      " 7   user_name            1380 non-null   object\n",
      "dtypes: object(8)\n",
      "memory usage: 97.0+ KB\n"
     ]
    }
   ],
   "source": [
    "df2.info()"
   ]
  },
  {
   "cell_type": "code",
   "execution_count": 23,
   "id": "8ffb119c",
   "metadata": {},
   "outputs": [
    {
     "data": {
      "text/html": [
       "<div>\n",
       "<style scoped>\n",
       "    .dataframe tbody tr th:only-of-type {\n",
       "        vertical-align: middle;\n",
       "    }\n",
       "\n",
       "    .dataframe tbody tr th {\n",
       "        vertical-align: top;\n",
       "    }\n",
       "\n",
       "    .dataframe thead th {\n",
       "        text-align: right;\n",
       "    }\n",
       "</style>\n",
       "<table border=\"1\" class=\"dataframe\">\n",
       "  <thead>\n",
       "    <tr style=\"text-align: right;\">\n",
       "      <th></th>\n",
       "      <th>product_name</th>\n",
       "      <th>category</th>\n",
       "      <th>discounted_price</th>\n",
       "      <th>actual_price</th>\n",
       "      <th>discount_percentage</th>\n",
       "      <th>rating</th>\n",
       "      <th>rating_count</th>\n",
       "      <th>user_name</th>\n",
       "    </tr>\n",
       "  </thead>\n",
       "  <tbody>\n",
       "    <tr>\n",
       "      <th>0</th>\n",
       "      <td>Wayona Nylon Braided USB to Lightning Fast Cha...</td>\n",
       "      <td>Computers&amp;Accessories|Accessories&amp;Peripherals|...</td>\n",
       "      <td>₹399</td>\n",
       "      <td>₹1,099</td>\n",
       "      <td>64%</td>\n",
       "      <td>4.2</td>\n",
       "      <td>24,269</td>\n",
       "      <td>Manav,Adarsh gupta,Sundeep,S.Sayeed Ahmed,jasp...</td>\n",
       "    </tr>\n",
       "  </tbody>\n",
       "</table>\n",
       "</div>"
      ],
      "text/plain": [
       "                                        product_name  \\\n",
       "0  Wayona Nylon Braided USB to Lightning Fast Cha...   \n",
       "\n",
       "                                            category discounted_price  \\\n",
       "0  Computers&Accessories|Accessories&Peripherals|...             ₹399   \n",
       "\n",
       "  actual_price discount_percentage rating rating_count  \\\n",
       "0       ₹1,099                 64%    4.2       24,269   \n",
       "\n",
       "                                           user_name  \n",
       "0  Manav,Adarsh gupta,Sundeep,S.Sayeed Ahmed,jasp...  "
      ]
     },
     "execution_count": 23,
     "metadata": {},
     "output_type": "execute_result"
    }
   ],
   "source": [
    "df2.head(1)"
   ]
  },
  {
   "cell_type": "code",
   "execution_count": 24,
   "id": "a5e0a82e",
   "metadata": {
    "collapsed": true
   },
   "outputs": [
    {
     "ename": "ValueError",
     "evalue": "Unable to parse string \"|\" at position 1194",
     "output_type": "error",
     "traceback": [
      "\u001b[1;31m---------------------------------------------------------------------------\u001b[0m",
      "\u001b[1;31mValueError\u001b[0m                                Traceback (most recent call last)",
      "File \u001b[1;32m~\\anaconda3\\Lib\\site-packages\\pandas\\_libs\\lib.pyx:2369\u001b[0m, in \u001b[0;36mpandas._libs.lib.maybe_convert_numeric\u001b[1;34m()\u001b[0m\n",
      "\u001b[1;31mValueError\u001b[0m: Unable to parse string \"|\"",
      "\nDuring handling of the above exception, another exception occurred:\n",
      "\u001b[1;31mValueError\u001b[0m                                Traceback (most recent call last)",
      "Cell \u001b[1;32mIn[24], line 1\u001b[0m\n\u001b[1;32m----> 1\u001b[0m pd\u001b[38;5;241m.\u001b[39mto_numeric(df2[\u001b[38;5;124m'\u001b[39m\u001b[38;5;124mrating\u001b[39m\u001b[38;5;124m'\u001b[39m])\n",
      "File \u001b[1;32m~\\anaconda3\\Lib\\site-packages\\pandas\\core\\tools\\numeric.py:185\u001b[0m, in \u001b[0;36mto_numeric\u001b[1;34m(arg, errors, downcast)\u001b[0m\n\u001b[0;32m    183\u001b[0m coerce_numeric \u001b[38;5;241m=\u001b[39m errors \u001b[38;5;129;01mnot\u001b[39;00m \u001b[38;5;129;01min\u001b[39;00m (\u001b[38;5;124m\"\u001b[39m\u001b[38;5;124mignore\u001b[39m\u001b[38;5;124m\"\u001b[39m, \u001b[38;5;124m\"\u001b[39m\u001b[38;5;124mraise\u001b[39m\u001b[38;5;124m\"\u001b[39m)\n\u001b[0;32m    184\u001b[0m \u001b[38;5;28;01mtry\u001b[39;00m:\n\u001b[1;32m--> 185\u001b[0m     values, _ \u001b[38;5;241m=\u001b[39m lib\u001b[38;5;241m.\u001b[39mmaybe_convert_numeric(\n\u001b[0;32m    186\u001b[0m         values, \u001b[38;5;28mset\u001b[39m(), coerce_numeric\u001b[38;5;241m=\u001b[39mcoerce_numeric\n\u001b[0;32m    187\u001b[0m     )\n\u001b[0;32m    188\u001b[0m \u001b[38;5;28;01mexcept\u001b[39;00m (\u001b[38;5;167;01mValueError\u001b[39;00m, \u001b[38;5;167;01mTypeError\u001b[39;00m):\n\u001b[0;32m    189\u001b[0m     \u001b[38;5;28;01mif\u001b[39;00m errors \u001b[38;5;241m==\u001b[39m \u001b[38;5;124m\"\u001b[39m\u001b[38;5;124mraise\u001b[39m\u001b[38;5;124m\"\u001b[39m:\n",
      "File \u001b[1;32m~\\anaconda3\\Lib\\site-packages\\pandas\\_libs\\lib.pyx:2411\u001b[0m, in \u001b[0;36mpandas._libs.lib.maybe_convert_numeric\u001b[1;34m()\u001b[0m\n",
      "\u001b[1;31mValueError\u001b[0m: Unable to parse string \"|\" at position 1194"
     ]
    }
   ],
   "source": [
    "pd.to_numeric(df2['rating'])"
   ]
  },
  {
   "cell_type": "code",
   "execution_count": 28,
   "id": "3f60caf2",
   "metadata": {
    "collapsed": true
   },
   "outputs": [
    {
     "data": {
      "text/plain": [
       "product_name           Eureka Forbes car Vac 100 Watts Powerful Sucti...\n",
       "category               Home&Kitchen|Kitchen&HomeAppliances|Vacuum,Cle...\n",
       "discounted_price                                                  ₹2,099\n",
       "actual_price                                                      ₹2,499\n",
       "discount_percentage                                                  16%\n",
       "rating                                                                 |\n",
       "rating_count                                                         992\n",
       "user_name              Divya,Dr Nefario,Deekshith,Preeti,Prasanth R,P...\n",
       "Name: 1279, dtype: object"
      ]
     },
     "execution_count": 28,
     "metadata": {},
     "output_type": "execute_result"
    }
   ],
   "source": [
    "df2.iloc[1194]"
   ]
  },
  {
   "cell_type": "code",
   "execution_count": 29,
   "id": "5537768a",
   "metadata": {},
   "outputs": [
    {
     "data": {
      "text/plain": [
       "array(['4.2', '4.0', '3.9', '4.1', '4.3', '4.4', '4.5', '3.7', '3.3',\n",
       "       '3.6', '3.4', '3.8', '3.5', '4.6', '3.2', '5.0', '4.7', '3.0',\n",
       "       '2.8', '4', '3.1', '4.8', '2.3', '|', '2', '3', '2.6', '2.9'],\n",
       "      dtype=object)"
      ]
     },
     "execution_count": 29,
     "metadata": {},
     "output_type": "execute_result"
    }
   ],
   "source": [
    "df2['rating'].unique()"
   ]
  },
  {
   "cell_type": "code",
   "execution_count": 34,
   "id": "b251824f",
   "metadata": {
    "collapsed": true
   },
   "outputs": [
    {
     "name": "stderr",
     "output_type": "stream",
     "text": [
      "C:\\Users\\UZOMA\\AppData\\Local\\Temp\\ipykernel_11796\\3937918673.py:1: FutureWarning: The default value of regex will change from True to False in a future version. In addition, single character regular expressions will *not* be treated as literal strings when regex=True.\n",
      "  df2['rating'] = df2['rating'].str.replace('|','0')\n",
      "C:\\Users\\UZOMA\\AppData\\Local\\Temp\\ipykernel_11796\\3937918673.py:1: SettingWithCopyWarning: \n",
      "A value is trying to be set on a copy of a slice from a DataFrame.\n",
      "Try using .loc[row_indexer,col_indexer] = value instead\n",
      "\n",
      "See the caveats in the documentation: https://pandas.pydata.org/pandas-docs/stable/user_guide/indexing.html#returning-a-view-versus-a-copy\n",
      "  df2['rating'] = df2['rating'].str.replace('|','0')\n"
     ]
    }
   ],
   "source": [
    "df2['rating'] = df2['rating'].str.replace('|','0')"
   ]
  },
  {
   "cell_type": "code",
   "execution_count": 35,
   "id": "c3375f85",
   "metadata": {
    "collapsed": true
   },
   "outputs": [
    {
     "data": {
      "text/plain": [
       "array(['4.2', '4.0', '3.9', '4.1', '4.3', '4.4', '4.5', '3.7', '3.3',\n",
       "       '3.6', '3.4', '3.8', '3.5', '4.6', '3.2', '5.0', '4.7', '3.0',\n",
       "       '2.8', '4', '3.1', '4.8', '2.3', '0', '2', '3', '2.6', '2.9'],\n",
       "      dtype=object)"
      ]
     },
     "execution_count": 35,
     "metadata": {},
     "output_type": "execute_result"
    }
   ],
   "source": [
    "df2['rating'].unique()"
   ]
  },
  {
   "cell_type": "code",
   "execution_count": 38,
   "id": "ddfafeb3",
   "metadata": {
    "collapsed": true
   },
   "outputs": [
    {
     "name": "stderr",
     "output_type": "stream",
     "text": [
      "C:\\Users\\UZOMA\\AppData\\Local\\Temp\\ipykernel_11796\\2512155380.py:2: SettingWithCopyWarning: \n",
      "A value is trying to be set on a copy of a slice from a DataFrame.\n",
      "Try using .loc[row_indexer,col_indexer] = value instead\n",
      "\n",
      "See the caveats in the documentation: https://pandas.pydata.org/pandas-docs/stable/user_guide/indexing.html#returning-a-view-versus-a-copy\n",
      "  df2['rating'] = pd.to_numeric(df2['rating'])\n"
     ]
    }
   ],
   "source": [
    "# Converts the rating column to float from object\n",
    "df2['rating'] = pd.to_numeric(df2['rating'])"
   ]
  },
  {
   "cell_type": "code",
   "execution_count": 39,
   "id": "e2ef4711",
   "metadata": {},
   "outputs": [
    {
     "name": "stdout",
     "output_type": "stream",
     "text": [
      "<class 'pandas.core.frame.DataFrame'>\n",
      "Int64Index: 1380 entries, 0 to 1464\n",
      "Data columns (total 8 columns):\n",
      " #   Column               Non-Null Count  Dtype  \n",
      "---  ------               --------------  -----  \n",
      " 0   product_name         1380 non-null   object \n",
      " 1   category             1380 non-null   object \n",
      " 2   discounted_price     1380 non-null   object \n",
      " 3   actual_price         1380 non-null   object \n",
      " 4   discount_percentage  1380 non-null   object \n",
      " 5   rating               1380 non-null   float64\n",
      " 6   rating_count         1378 non-null   object \n",
      " 7   user_name            1380 non-null   object \n",
      "dtypes: float64(1), object(7)\n",
      "memory usage: 129.3+ KB\n"
     ]
    }
   ],
   "source": [
    "df2.info()"
   ]
  },
  {
   "cell_type": "code",
   "execution_count": 40,
   "id": "19546757",
   "metadata": {},
   "outputs": [
    {
     "data": {
      "text/html": [
       "<div>\n",
       "<style scoped>\n",
       "    .dataframe tbody tr th:only-of-type {\n",
       "        vertical-align: middle;\n",
       "    }\n",
       "\n",
       "    .dataframe tbody tr th {\n",
       "        vertical-align: top;\n",
       "    }\n",
       "\n",
       "    .dataframe thead th {\n",
       "        text-align: right;\n",
       "    }\n",
       "</style>\n",
       "<table border=\"1\" class=\"dataframe\">\n",
       "  <thead>\n",
       "    <tr style=\"text-align: right;\">\n",
       "      <th></th>\n",
       "      <th>product_name</th>\n",
       "      <th>category</th>\n",
       "      <th>discounted_price</th>\n",
       "      <th>actual_price</th>\n",
       "      <th>discount_percentage</th>\n",
       "      <th>rating</th>\n",
       "      <th>rating_count</th>\n",
       "      <th>user_name</th>\n",
       "    </tr>\n",
       "  </thead>\n",
       "  <tbody>\n",
       "    <tr>\n",
       "      <th>0</th>\n",
       "      <td>Wayona Nylon Braided USB to Lightning Fast Cha...</td>\n",
       "      <td>Computers&amp;Accessories|Accessories&amp;Peripherals|...</td>\n",
       "      <td>₹399</td>\n",
       "      <td>₹1,099</td>\n",
       "      <td>64%</td>\n",
       "      <td>4.2</td>\n",
       "      <td>24,269</td>\n",
       "      <td>Manav,Adarsh gupta,Sundeep,S.Sayeed Ahmed,jasp...</td>\n",
       "    </tr>\n",
       "  </tbody>\n",
       "</table>\n",
       "</div>"
      ],
      "text/plain": [
       "                                        product_name  \\\n",
       "0  Wayona Nylon Braided USB to Lightning Fast Cha...   \n",
       "\n",
       "                                            category discounted_price  \\\n",
       "0  Computers&Accessories|Accessories&Peripherals|...             ₹399   \n",
       "\n",
       "  actual_price discount_percentage  rating rating_count  \\\n",
       "0       ₹1,099                 64%     4.2       24,269   \n",
       "\n",
       "                                           user_name  \n",
       "0  Manav,Adarsh gupta,Sundeep,S.Sayeed Ahmed,jasp...  "
      ]
     },
     "execution_count": 40,
     "metadata": {},
     "output_type": "execute_result"
    }
   ],
   "source": [
    "df2.head(1)"
   ]
  },
  {
   "cell_type": "code",
   "execution_count": 44,
   "id": "ec24b538",
   "metadata": {
    "collapsed": true
   },
   "outputs": [
    {
     "name": "stderr",
     "output_type": "stream",
     "text": [
      "C:\\Users\\UZOMA\\AppData\\Local\\Temp\\ipykernel_11796\\1716376147.py:1: SettingWithCopyWarning: \n",
      "A value is trying to be set on a copy of a slice from a DataFrame.\n",
      "Try using .loc[row_indexer,col_indexer] = value instead\n",
      "\n",
      "See the caveats in the documentation: https://pandas.pydata.org/pandas-docs/stable/user_guide/indexing.html#returning-a-view-versus-a-copy\n",
      "  df2['discounted_price'] = df2['discounted_price'].str.replace('₹','')\n",
      "C:\\Users\\UZOMA\\AppData\\Local\\Temp\\ipykernel_11796\\1716376147.py:2: SettingWithCopyWarning: \n",
      "A value is trying to be set on a copy of a slice from a DataFrame.\n",
      "Try using .loc[row_indexer,col_indexer] = value instead\n",
      "\n",
      "See the caveats in the documentation: https://pandas.pydata.org/pandas-docs/stable/user_guide/indexing.html#returning-a-view-versus-a-copy\n",
      "  df2['discounted_price'] = df2['discounted_price'].str.replace(',','')\n"
     ]
    }
   ],
   "source": [
    "df2['discounted_price'] = df2['discounted_price'].str.replace('₹','')\n",
    "df2['discounted_price'] = df2['discounted_price'].str.replace(',','')"
   ]
  },
  {
   "cell_type": "code",
   "execution_count": 45,
   "id": "0aeb92c0",
   "metadata": {
    "collapsed": true
   },
   "outputs": [
    {
     "data": {
      "text/html": [
       "<div>\n",
       "<style scoped>\n",
       "    .dataframe tbody tr th:only-of-type {\n",
       "        vertical-align: middle;\n",
       "    }\n",
       "\n",
       "    .dataframe tbody tr th {\n",
       "        vertical-align: top;\n",
       "    }\n",
       "\n",
       "    .dataframe thead th {\n",
       "        text-align: right;\n",
       "    }\n",
       "</style>\n",
       "<table border=\"1\" class=\"dataframe\">\n",
       "  <thead>\n",
       "    <tr style=\"text-align: right;\">\n",
       "      <th></th>\n",
       "      <th>product_name</th>\n",
       "      <th>category</th>\n",
       "      <th>discounted_price</th>\n",
       "      <th>actual_price</th>\n",
       "      <th>discount_percentage</th>\n",
       "      <th>rating</th>\n",
       "      <th>rating_count</th>\n",
       "      <th>user_name</th>\n",
       "    </tr>\n",
       "  </thead>\n",
       "  <tbody>\n",
       "    <tr>\n",
       "      <th>0</th>\n",
       "      <td>Wayona Nylon Braided USB to Lightning Fast Cha...</td>\n",
       "      <td>Computers&amp;Accessories|Accessories&amp;Peripherals|...</td>\n",
       "      <td>399</td>\n",
       "      <td>₹1,099</td>\n",
       "      <td>64%</td>\n",
       "      <td>4.2</td>\n",
       "      <td>24,269</td>\n",
       "      <td>Manav,Adarsh gupta,Sundeep,S.Sayeed Ahmed,jasp...</td>\n",
       "    </tr>\n",
       "  </tbody>\n",
       "</table>\n",
       "</div>"
      ],
      "text/plain": [
       "                                        product_name  \\\n",
       "0  Wayona Nylon Braided USB to Lightning Fast Cha...   \n",
       "\n",
       "                                            category discounted_price  \\\n",
       "0  Computers&Accessories|Accessories&Peripherals|...              399   \n",
       "\n",
       "  actual_price discount_percentage  rating rating_count  \\\n",
       "0       ₹1,099                 64%     4.2       24,269   \n",
       "\n",
       "                                           user_name  \n",
       "0  Manav,Adarsh gupta,Sundeep,S.Sayeed Ahmed,jasp...  "
      ]
     },
     "execution_count": 45,
     "metadata": {},
     "output_type": "execute_result"
    }
   ],
   "source": [
    "df2.head(1)"
   ]
  },
  {
   "cell_type": "code",
   "execution_count": 46,
   "id": "6fbf94cf",
   "metadata": {
    "collapsed": true
   },
   "outputs": [
    {
     "name": "stderr",
     "output_type": "stream",
     "text": [
      "C:\\Users\\UZOMA\\AppData\\Local\\Temp\\ipykernel_11796\\3723342811.py:1: SettingWithCopyWarning: \n",
      "A value is trying to be set on a copy of a slice from a DataFrame.\n",
      "Try using .loc[row_indexer,col_indexer] = value instead\n",
      "\n",
      "See the caveats in the documentation: https://pandas.pydata.org/pandas-docs/stable/user_guide/indexing.html#returning-a-view-versus-a-copy\n",
      "  df2['actual_price'] = df2['actual_price'].str.replace('₹', '')\n",
      "C:\\Users\\UZOMA\\AppData\\Local\\Temp\\ipykernel_11796\\3723342811.py:2: SettingWithCopyWarning: \n",
      "A value is trying to be set on a copy of a slice from a DataFrame.\n",
      "Try using .loc[row_indexer,col_indexer] = value instead\n",
      "\n",
      "See the caveats in the documentation: https://pandas.pydata.org/pandas-docs/stable/user_guide/indexing.html#returning-a-view-versus-a-copy\n",
      "  df2['actual_price'] = df2['actual_price'].str.replace(',', '')\n"
     ]
    }
   ],
   "source": [
    "df2['actual_price'] = df2['actual_price'].str.replace('₹', '')\n",
    "df2['actual_price'] = df2['actual_price'].str.replace(',', '')"
   ]
  },
  {
   "cell_type": "code",
   "execution_count": 48,
   "id": "be707809",
   "metadata": {
    "collapsed": true
   },
   "outputs": [
    {
     "data": {
      "text/html": [
       "<div>\n",
       "<style scoped>\n",
       "    .dataframe tbody tr th:only-of-type {\n",
       "        vertical-align: middle;\n",
       "    }\n",
       "\n",
       "    .dataframe tbody tr th {\n",
       "        vertical-align: top;\n",
       "    }\n",
       "\n",
       "    .dataframe thead th {\n",
       "        text-align: right;\n",
       "    }\n",
       "</style>\n",
       "<table border=\"1\" class=\"dataframe\">\n",
       "  <thead>\n",
       "    <tr style=\"text-align: right;\">\n",
       "      <th></th>\n",
       "      <th>product_name</th>\n",
       "      <th>category</th>\n",
       "      <th>discounted_price</th>\n",
       "      <th>actual_price</th>\n",
       "      <th>discount_percentage</th>\n",
       "      <th>rating</th>\n",
       "      <th>rating_count</th>\n",
       "      <th>user_name</th>\n",
       "    </tr>\n",
       "  </thead>\n",
       "  <tbody>\n",
       "    <tr>\n",
       "      <th>0</th>\n",
       "      <td>Wayona Nylon Braided USB to Lightning Fast Cha...</td>\n",
       "      <td>Computers&amp;Accessories|Accessories&amp;Peripherals|...</td>\n",
       "      <td>399</td>\n",
       "      <td>1099</td>\n",
       "      <td>64%</td>\n",
       "      <td>4.2</td>\n",
       "      <td>24,269</td>\n",
       "      <td>Manav,Adarsh gupta,Sundeep,S.Sayeed Ahmed,jasp...</td>\n",
       "    </tr>\n",
       "  </tbody>\n",
       "</table>\n",
       "</div>"
      ],
      "text/plain": [
       "                                        product_name  \\\n",
       "0  Wayona Nylon Braided USB to Lightning Fast Cha...   \n",
       "\n",
       "                                            category discounted_price  \\\n",
       "0  Computers&Accessories|Accessories&Peripherals|...              399   \n",
       "\n",
       "  actual_price discount_percentage  rating rating_count  \\\n",
       "0         1099                 64%     4.2       24,269   \n",
       "\n",
       "                                           user_name  \n",
       "0  Manav,Adarsh gupta,Sundeep,S.Sayeed Ahmed,jasp...  "
      ]
     },
     "execution_count": 48,
     "metadata": {},
     "output_type": "execute_result"
    }
   ],
   "source": [
    "df2.head(1)"
   ]
  },
  {
   "cell_type": "code",
   "execution_count": 50,
   "id": "92353b77",
   "metadata": {
    "collapsed": true
   },
   "outputs": [
    {
     "name": "stderr",
     "output_type": "stream",
     "text": [
      "C:\\Users\\UZOMA\\AppData\\Local\\Temp\\ipykernel_11796\\3778705003.py:1: SettingWithCopyWarning: \n",
      "A value is trying to be set on a copy of a slice from a DataFrame.\n",
      "Try using .loc[row_indexer,col_indexer] = value instead\n",
      "\n",
      "See the caveats in the documentation: https://pandas.pydata.org/pandas-docs/stable/user_guide/indexing.html#returning-a-view-versus-a-copy\n",
      "  df2['discounted_price'] = pd.to_numeric(df2['discounted_price'])\n",
      "C:\\Users\\UZOMA\\AppData\\Local\\Temp\\ipykernel_11796\\3778705003.py:2: SettingWithCopyWarning: \n",
      "A value is trying to be set on a copy of a slice from a DataFrame.\n",
      "Try using .loc[row_indexer,col_indexer] = value instead\n",
      "\n",
      "See the caveats in the documentation: https://pandas.pydata.org/pandas-docs/stable/user_guide/indexing.html#returning-a-view-versus-a-copy\n",
      "  df2['actual_price'] = pd.to_numeric(df2['actual_price'])\n"
     ]
    }
   ],
   "source": [
    "df2['discounted_price'] = pd.to_numeric(df2['discounted_price'])\n",
    "df2['actual_price'] = pd.to_numeric(df2['actual_price'])"
   ]
  },
  {
   "cell_type": "code",
   "execution_count": 51,
   "id": "5a0d83ec",
   "metadata": {},
   "outputs": [
    {
     "data": {
      "text/html": [
       "<div>\n",
       "<style scoped>\n",
       "    .dataframe tbody tr th:only-of-type {\n",
       "        vertical-align: middle;\n",
       "    }\n",
       "\n",
       "    .dataframe tbody tr th {\n",
       "        vertical-align: top;\n",
       "    }\n",
       "\n",
       "    .dataframe thead th {\n",
       "        text-align: right;\n",
       "    }\n",
       "</style>\n",
       "<table border=\"1\" class=\"dataframe\">\n",
       "  <thead>\n",
       "    <tr style=\"text-align: right;\">\n",
       "      <th></th>\n",
       "      <th>product_name</th>\n",
       "      <th>category</th>\n",
       "      <th>discounted_price</th>\n",
       "      <th>actual_price</th>\n",
       "      <th>discount_percentage</th>\n",
       "      <th>rating</th>\n",
       "      <th>rating_count</th>\n",
       "      <th>user_name</th>\n",
       "    </tr>\n",
       "  </thead>\n",
       "  <tbody>\n",
       "    <tr>\n",
       "      <th>0</th>\n",
       "      <td>Wayona Nylon Braided USB to Lightning Fast Cha...</td>\n",
       "      <td>Computers&amp;Accessories|Accessories&amp;Peripherals|...</td>\n",
       "      <td>399.0</td>\n",
       "      <td>1099.0</td>\n",
       "      <td>64%</td>\n",
       "      <td>4.2</td>\n",
       "      <td>24,269</td>\n",
       "      <td>Manav,Adarsh gupta,Sundeep,S.Sayeed Ahmed,jasp...</td>\n",
       "    </tr>\n",
       "  </tbody>\n",
       "</table>\n",
       "</div>"
      ],
      "text/plain": [
       "                                        product_name  \\\n",
       "0  Wayona Nylon Braided USB to Lightning Fast Cha...   \n",
       "\n",
       "                                            category  discounted_price  \\\n",
       "0  Computers&Accessories|Accessories&Peripherals|...             399.0   \n",
       "\n",
       "   actual_price discount_percentage  rating rating_count  \\\n",
       "0        1099.0                 64%     4.2       24,269   \n",
       "\n",
       "                                           user_name  \n",
       "0  Manav,Adarsh gupta,Sundeep,S.Sayeed Ahmed,jasp...  "
      ]
     },
     "execution_count": 51,
     "metadata": {},
     "output_type": "execute_result"
    }
   ],
   "source": [
    "df2.head(1)"
   ]
  },
  {
   "cell_type": "code",
   "execution_count": 53,
   "id": "998374b7",
   "metadata": {},
   "outputs": [
    {
     "name": "stderr",
     "output_type": "stream",
     "text": [
      "C:\\Users\\UZOMA\\AppData\\Local\\Temp\\ipykernel_11796\\206463137.py:1: SettingWithCopyWarning: \n",
      "A value is trying to be set on a copy of a slice from a DataFrame.\n",
      "Try using .loc[row_indexer,col_indexer] = value instead\n",
      "\n",
      "See the caveats in the documentation: https://pandas.pydata.org/pandas-docs/stable/user_guide/indexing.html#returning-a-view-versus-a-copy\n",
      "  df2['rating_count'] = df2['rating_count'].str.replace(',','')\n",
      "C:\\Users\\UZOMA\\AppData\\Local\\Temp\\ipykernel_11796\\206463137.py:2: SettingWithCopyWarning: \n",
      "A value is trying to be set on a copy of a slice from a DataFrame.\n",
      "Try using .loc[row_indexer,col_indexer] = value instead\n",
      "\n",
      "See the caveats in the documentation: https://pandas.pydata.org/pandas-docs/stable/user_guide/indexing.html#returning-a-view-versus-a-copy\n",
      "  df2['rating_count'] = pd.to_numeric(df2['rating_count'])\n"
     ]
    }
   ],
   "source": [
    "df2['rating_count'] = df2['rating_count'].str.replace(',','')\n",
    "df2['rating_count'] = pd.to_numeric(df2['rating_count'])"
   ]
  },
  {
   "cell_type": "code",
   "execution_count": 54,
   "id": "157e3270",
   "metadata": {},
   "outputs": [
    {
     "name": "stderr",
     "output_type": "stream",
     "text": [
      "C:\\Users\\UZOMA\\AppData\\Local\\Temp\\ipykernel_11796\\3958754269.py:1: SettingWithCopyWarning: \n",
      "A value is trying to be set on a copy of a slice from a DataFrame.\n",
      "Try using .loc[row_indexer,col_indexer] = value instead\n",
      "\n",
      "See the caveats in the documentation: https://pandas.pydata.org/pandas-docs/stable/user_guide/indexing.html#returning-a-view-versus-a-copy\n",
      "  df2['discount_percentage'] = df2['discount_percentage'].str.replace('%','')\n",
      "C:\\Users\\UZOMA\\AppData\\Local\\Temp\\ipykernel_11796\\3958754269.py:2: SettingWithCopyWarning: \n",
      "A value is trying to be set on a copy of a slice from a DataFrame.\n",
      "Try using .loc[row_indexer,col_indexer] = value instead\n",
      "\n",
      "See the caveats in the documentation: https://pandas.pydata.org/pandas-docs/stable/user_guide/indexing.html#returning-a-view-versus-a-copy\n",
      "  df2['discount_percentage'] = pd.to_numeric(df2['discount_percentage'])\n"
     ]
    }
   ],
   "source": [
    "df2['discount_percentage'] = df2['discount_percentage'].str.replace('%','')\n",
    "df2['discount_percentage'] = pd.to_numeric(df2['discount_percentage'])"
   ]
  },
  {
   "cell_type": "code",
   "execution_count": 55,
   "id": "da67ea88",
   "metadata": {},
   "outputs": [
    {
     "name": "stdout",
     "output_type": "stream",
     "text": [
      "<class 'pandas.core.frame.DataFrame'>\n",
      "Int64Index: 1380 entries, 0 to 1464\n",
      "Data columns (total 8 columns):\n",
      " #   Column               Non-Null Count  Dtype  \n",
      "---  ------               --------------  -----  \n",
      " 0   product_name         1380 non-null   object \n",
      " 1   category             1380 non-null   object \n",
      " 2   discounted_price     1380 non-null   float64\n",
      " 3   actual_price         1380 non-null   float64\n",
      " 4   discount_percentage  1380 non-null   int64  \n",
      " 5   rating               1380 non-null   float64\n",
      " 6   rating_count         1378 non-null   float64\n",
      " 7   user_name            1380 non-null   object \n",
      "dtypes: float64(4), int64(1), object(3)\n",
      "memory usage: 129.3+ KB\n"
     ]
    }
   ],
   "source": [
    "df2.info()"
   ]
  },
  {
   "cell_type": "code",
   "execution_count": 59,
   "id": "64410ad5",
   "metadata": {},
   "outputs": [],
   "source": [
    "# Rename columns\n",
    "new_name = {'discounted_price':'discounted_price (₦)',\n",
    "           'actual_price':'actual_price (₦)',\n",
    "           'discount_percentage': 'discount_percentage %'}\n",
    "df2 = df2.rename(columns=new_name)"
   ]
  },
  {
   "cell_type": "code",
   "execution_count": 61,
   "id": "87c271be",
   "metadata": {
    "scrolled": true
   },
   "outputs": [
    {
     "data": {
      "text/html": [
       "<div>\n",
       "<style scoped>\n",
       "    .dataframe tbody tr th:only-of-type {\n",
       "        vertical-align: middle;\n",
       "    }\n",
       "\n",
       "    .dataframe tbody tr th {\n",
       "        vertical-align: top;\n",
       "    }\n",
       "\n",
       "    .dataframe thead th {\n",
       "        text-align: right;\n",
       "    }\n",
       "</style>\n",
       "<table border=\"1\" class=\"dataframe\">\n",
       "  <thead>\n",
       "    <tr style=\"text-align: right;\">\n",
       "      <th></th>\n",
       "      <th>product_name</th>\n",
       "      <th>category</th>\n",
       "      <th>discounted_price (₦)</th>\n",
       "      <th>actual_price (₦)</th>\n",
       "      <th>discount_percentage %</th>\n",
       "      <th>rating</th>\n",
       "      <th>rating_count</th>\n",
       "      <th>user_name</th>\n",
       "    </tr>\n",
       "  </thead>\n",
       "  <tbody>\n",
       "    <tr>\n",
       "      <th>0</th>\n",
       "      <td>Wayona Nylon Braided USB to Lightning Fast Cha...</td>\n",
       "      <td>Computers&amp;Accessories|Accessories&amp;Peripherals|...</td>\n",
       "      <td>399.0</td>\n",
       "      <td>1099.0</td>\n",
       "      <td>64</td>\n",
       "      <td>4.2</td>\n",
       "      <td>24269.0</td>\n",
       "      <td>Manav,Adarsh gupta,Sundeep,S.Sayeed Ahmed,jasp...</td>\n",
       "    </tr>\n",
       "  </tbody>\n",
       "</table>\n",
       "</div>"
      ],
      "text/plain": [
       "                                        product_name  \\\n",
       "0  Wayona Nylon Braided USB to Lightning Fast Cha...   \n",
       "\n",
       "                                            category  discounted_price (₦)  \\\n",
       "0  Computers&Accessories|Accessories&Peripherals|...                 399.0   \n",
       "\n",
       "   actual_price (₦)  discount_percentage %  rating  rating_count  \\\n",
       "0            1099.0                     64     4.2       24269.0   \n",
       "\n",
       "                                           user_name  \n",
       "0  Manav,Adarsh gupta,Sundeep,S.Sayeed Ahmed,jasp...  "
      ]
     },
     "execution_count": 61,
     "metadata": {},
     "output_type": "execute_result"
    }
   ],
   "source": [
    "df2.head(1)"
   ]
  },
  {
   "cell_type": "code",
   "execution_count": 63,
   "id": "00c81766",
   "metadata": {},
   "outputs": [
    {
     "name": "stdout",
     "output_type": "stream",
     "text": [
      "₦\n"
     ]
    }
   ],
   "source": [
    "# Symbol for naira sign\n",
    "print(\"\\u20A6\")"
   ]
  },
  {
   "cell_type": "code",
   "execution_count": 64,
   "id": "3b7c8e8f",
   "metadata": {},
   "outputs": [
    {
     "data": {
      "text/plain": [
       "0       Manav,Adarsh gupta,Sundeep,S.Sayeed Ahmed,jasp...\n",
       "1       ArdKn,Nirbhay kumar,Sagar Viswanathan,Asp,Plac...\n",
       "2       Kunal,Himanshu,viswanath,sai niharka,saqib mal...\n",
       "3       Omkar dhale,JD,HEMALATHA,Ajwadh a.,amar singh ...\n",
       "4       rahuls6099,Swasat Borah,Ajay Wadke,Pranali,RVK...\n",
       "                              ...                        \n",
       "1460    Prabha ds,Raghuram bk,Real Deal,Amazon Custome...\n",
       "1461    Manu Bhai,Naveenpittu,Evatira Sangma,JAGANNADH...\n",
       "1462    Nehal Desai,Danish Parwez,Amazon Customer,Amaz...\n",
       "1463    Shubham Dubey,E.GURUBARAN,Mayank S.,eusuf khan...\n",
       "1464    Rajib,Ajay B,Vikas Kahol,PARDEEP,Anindya Prama...\n",
       "Name: user_name, Length: 1380, dtype: object"
      ]
     },
     "execution_count": 64,
     "metadata": {},
     "output_type": "execute_result"
    }
   ],
   "source": [
    "df2['user_name']"
   ]
  },
  {
   "cell_type": "code",
   "execution_count": 65,
   "id": "868911e0",
   "metadata": {},
   "outputs": [
    {
     "data": {
      "text/plain": [
       "'Manav,Adarsh gupta,Sundeep,S.Sayeed Ahmed,jaspreet singh,Khaja moin,Anand,S.ARUMUGAM'"
      ]
     },
     "execution_count": 65,
     "metadata": {},
     "output_type": "execute_result"
    }
   ],
   "source": [
    "df2.loc[0]['user_name']"
   ]
  },
  {
   "cell_type": "code",
   "execution_count": 69,
   "id": "186780e4",
   "metadata": {},
   "outputs": [],
   "source": [
    "# Drop the username column\n",
    "df2.drop(columns='user_name', inplace=True)"
   ]
  },
  {
   "cell_type": "code",
   "execution_count": 70,
   "id": "677cb1d5",
   "metadata": {},
   "outputs": [
    {
     "data": {
      "text/html": [
       "<div>\n",
       "<style scoped>\n",
       "    .dataframe tbody tr th:only-of-type {\n",
       "        vertical-align: middle;\n",
       "    }\n",
       "\n",
       "    .dataframe tbody tr th {\n",
       "        vertical-align: top;\n",
       "    }\n",
       "\n",
       "    .dataframe thead th {\n",
       "        text-align: right;\n",
       "    }\n",
       "</style>\n",
       "<table border=\"1\" class=\"dataframe\">\n",
       "  <thead>\n",
       "    <tr style=\"text-align: right;\">\n",
       "      <th></th>\n",
       "      <th>product_name</th>\n",
       "      <th>category</th>\n",
       "      <th>discounted_price (₦)</th>\n",
       "      <th>actual_price (₦)</th>\n",
       "      <th>discount_percentage %</th>\n",
       "      <th>rating</th>\n",
       "      <th>rating_count</th>\n",
       "    </tr>\n",
       "  </thead>\n",
       "  <tbody>\n",
       "    <tr>\n",
       "      <th>0</th>\n",
       "      <td>Wayona Nylon Braided USB to Lightning Fast Cha...</td>\n",
       "      <td>Computers&amp;Accessories|Accessories&amp;Peripherals|...</td>\n",
       "      <td>399.0</td>\n",
       "      <td>1099.0</td>\n",
       "      <td>64</td>\n",
       "      <td>4.2</td>\n",
       "      <td>24269.0</td>\n",
       "    </tr>\n",
       "    <tr>\n",
       "      <th>1</th>\n",
       "      <td>Ambrane Unbreakable 60W / 3A Fast Charging 1.5...</td>\n",
       "      <td>Computers&amp;Accessories|Accessories&amp;Peripherals|...</td>\n",
       "      <td>199.0</td>\n",
       "      <td>349.0</td>\n",
       "      <td>43</td>\n",
       "      <td>4.0</td>\n",
       "      <td>43994.0</td>\n",
       "    </tr>\n",
       "    <tr>\n",
       "      <th>2</th>\n",
       "      <td>Sounce Fast Phone Charging Cable &amp; Data Sync U...</td>\n",
       "      <td>Computers&amp;Accessories|Accessories&amp;Peripherals|...</td>\n",
       "      <td>199.0</td>\n",
       "      <td>1899.0</td>\n",
       "      <td>90</td>\n",
       "      <td>3.9</td>\n",
       "      <td>7928.0</td>\n",
       "    </tr>\n",
       "    <tr>\n",
       "      <th>3</th>\n",
       "      <td>boAt Deuce USB 300 2 in 1 Type-C &amp; Micro USB S...</td>\n",
       "      <td>Computers&amp;Accessories|Accessories&amp;Peripherals|...</td>\n",
       "      <td>329.0</td>\n",
       "      <td>699.0</td>\n",
       "      <td>53</td>\n",
       "      <td>4.2</td>\n",
       "      <td>94363.0</td>\n",
       "    </tr>\n",
       "    <tr>\n",
       "      <th>4</th>\n",
       "      <td>Portronics Konnect L 1.2M Fast Charging 3A 8 P...</td>\n",
       "      <td>Computers&amp;Accessories|Accessories&amp;Peripherals|...</td>\n",
       "      <td>154.0</td>\n",
       "      <td>399.0</td>\n",
       "      <td>61</td>\n",
       "      <td>4.2</td>\n",
       "      <td>16905.0</td>\n",
       "    </tr>\n",
       "  </tbody>\n",
       "</table>\n",
       "</div>"
      ],
      "text/plain": [
       "                                        product_name  \\\n",
       "0  Wayona Nylon Braided USB to Lightning Fast Cha...   \n",
       "1  Ambrane Unbreakable 60W / 3A Fast Charging 1.5...   \n",
       "2  Sounce Fast Phone Charging Cable & Data Sync U...   \n",
       "3  boAt Deuce USB 300 2 in 1 Type-C & Micro USB S...   \n",
       "4  Portronics Konnect L 1.2M Fast Charging 3A 8 P...   \n",
       "\n",
       "                                            category  discounted_price (₦)  \\\n",
       "0  Computers&Accessories|Accessories&Peripherals|...                 399.0   \n",
       "1  Computers&Accessories|Accessories&Peripherals|...                 199.0   \n",
       "2  Computers&Accessories|Accessories&Peripherals|...                 199.0   \n",
       "3  Computers&Accessories|Accessories&Peripherals|...                 329.0   \n",
       "4  Computers&Accessories|Accessories&Peripherals|...                 154.0   \n",
       "\n",
       "   actual_price (₦)  discount_percentage %  rating  rating_count  \n",
       "0            1099.0                     64     4.2       24269.0  \n",
       "1             349.0                     43     4.0       43994.0  \n",
       "2            1899.0                     90     3.9        7928.0  \n",
       "3             699.0                     53     4.2       94363.0  \n",
       "4             399.0                     61     4.2       16905.0  "
      ]
     },
     "execution_count": 70,
     "metadata": {},
     "output_type": "execute_result"
    }
   ],
   "source": [
    "df2.head()"
   ]
  },
  {
   "cell_type": "markdown",
   "id": "b85ba13b",
   "metadata": {},
   "source": [
    "### Question 1"
   ]
  },
  {
   "cell_type": "code",
   "execution_count": 74,
   "id": "5b85948d",
   "metadata": {
    "collapsed": true
   },
   "outputs": [
    {
     "data": {
      "text/plain": [
       "array(['Computers&Accessories|Accessories&Peripherals|Cables&Accessories|Cables|USBCables',\n",
       "       'Computers&Accessories|NetworkingDevices|NetworkAdapters|WirelessUSBAdapters',\n",
       "       'Electronics|HomeTheater,TV&Video|Accessories|Cables|HDMICables',\n",
       "       'Electronics|HomeTheater,TV&Video|Televisions|SmartTelevisions',\n",
       "       'Electronics|HomeTheater,TV&Video|Accessories|RemoteControls',\n",
       "       'Electronics|HomeTheater,TV&Video|Televisions|StandardTelevisions',\n",
       "       'Electronics|HomeTheater,TV&Video|Accessories|TVMounts,Stands&Turntables|TVWall&CeilingMounts',\n",
       "       'Electronics|HomeTheater,TV&Video|Accessories|Cables|RCACables',\n",
       "       'Electronics|HomeAudio|Accessories|SpeakerAccessories|Mounts',\n",
       "       'Electronics|HomeTheater,TV&Video|Accessories|Cables|OpticalCables',\n",
       "       'Electronics|HomeTheater,TV&Video|Projectors',\n",
       "       'Electronics|HomeAudio|Accessories|Adapters',\n",
       "       'Electronics|HomeTheater,TV&Video|SatelliteEquipment|SatelliteReceivers',\n",
       "       'Computers&Accessories|Accessories&Peripherals|Cables&Accessories|Cables|DVICables',\n",
       "       'Electronics|HomeTheater,TV&Video|Accessories|Cables|SpeakerCables',\n",
       "       'Electronics|HomeAudio|MediaStreamingDevices|StreamingClients',\n",
       "       'Electronics|HomeTheater,TV&Video|AVReceivers&Amplifiers',\n",
       "       'Electronics|HomeAudio|Speakers|TowerSpeakers',\n",
       "       'Electronics|HomeTheater,TV&Video|Accessories|3DGlasses',\n",
       "       'Electronics|WearableTechnology|SmartWatches',\n",
       "       'Electronics|Mobiles&Accessories|MobileAccessories|Chargers|PowerBanks',\n",
       "       'Electronics|Mobiles&Accessories|Smartphones&BasicMobiles|Smartphones',\n",
       "       'Electronics|Accessories|MemoryCards|MicroSD',\n",
       "       'Electronics|Mobiles&Accessories|Smartphones&BasicMobiles|BasicMobiles',\n",
       "       'Electronics|Headphones,Earbuds&Accessories|Headphones|In-Ear',\n",
       "       'Electronics|Mobiles&Accessories|MobileAccessories|Chargers|AutomobileChargers',\n",
       "       'Electronics|Mobiles&Accessories|MobileAccessories|AutomobileAccessories|Cradles',\n",
       "       'Electronics|Mobiles&Accessories|MobileAccessories|Chargers|WallChargers',\n",
       "       'Electronics|Mobiles&Accessories|MobileAccessories|Cables&Adapters|OTGAdapters',\n",
       "       'Electronics|Mobiles&Accessories|MobileAccessories|Photo&VideoAccessories|Tripods',\n",
       "       'Electronics|Mobiles&Accessories|MobileAccessories|Photo&VideoAccessories|SelfieSticks',\n",
       "       'Electronics|Mobiles&Accessories|MobileAccessories|Stands',\n",
       "       'Computers&Accessories|Accessories&Peripherals|Cables&Accessories|CableConnectionProtectors',\n",
       "       'Electronics|Mobiles&Accessories|MobileAccessories|Décor',\n",
       "       'Electronics|Mobiles&Accessories|MobileAccessories|Maintenance,Upkeep&Repairs|ScreenProtectors',\n",
       "       'Electronics|Mobiles&Accessories|MobileAccessories|StylusPens',\n",
       "       'Electronics|Mobiles&Accessories|MobileAccessories|Mounts|Bedstand&DeskMounts',\n",
       "       'Electronics|Mobiles&Accessories|MobileAccessories|Cases&Covers|BasicCases',\n",
       "       'Electronics|Mobiles&Accessories|MobileAccessories|Mounts|HandlebarMounts',\n",
       "       'Electronics|Headphones,Earbuds&Accessories|Headphones|On-Ear',\n",
       "       'Computers&Accessories|Accessories&Peripherals|LaptopAccessories|CameraPrivacyCovers',\n",
       "       'Electronics|Headphones,Earbuds&Accessories|Adapters',\n",
       "       'Electronics|Mobiles&Accessories|MobileAccessories|Décor|PhoneCharms',\n",
       "       'Electronics|Mobiles&Accessories|MobileAccessories|Mounts|Shower&WallMounts',\n",
       "       'Computers&Accessories|ExternalDevices&DataStorage|PenDrives',\n",
       "       'Computers&Accessories|Accessories&Peripherals|Keyboards,Mice&InputDevices|Mice',\n",
       "       'Computers&Accessories|Accessories&Peripherals|Keyboards,Mice&InputDevices|GraphicTablets',\n",
       "       'Computers&Accessories|Accessories&Peripherals|LaptopAccessories|Lapdesks',\n",
       "       'Computers&Accessories|Accessories&Peripherals|LaptopAccessories|NotebookComputerStands',\n",
       "       'Computers&Accessories|Accessories&Peripherals|Keyboards,Mice&InputDevices|Keyboards',\n",
       "       'MusicalInstruments|Microphones|Condenser',\n",
       "       'Electronics|GeneralPurposeBatteries&BatteryChargers|DisposableBatteries',\n",
       "       'OfficeProducts|OfficePaperProducts|Paper|Stationery|Pens,Pencils&WritingSupplies|Pens&Refills|GelInkRollerballPens',\n",
       "       'Home&Kitchen|CraftMaterials|Scrapbooking|Tape',\n",
       "       'Computers&Accessories|Accessories&Peripherals|Keyboards,Mice&InputDevices|Keyboard&MouseSets',\n",
       "       'Computers&Accessories|ExternalDevices&DataStorage|ExternalHardDisks',\n",
       "       'Electronics|Cameras&Photography|VideoCameras',\n",
       "       'Electronics|Cameras&Photography|Accessories|Tripods&Monopods|Tabletop&TravelTripods',\n",
       "       'OfficeProducts|OfficeElectronics|Calculators|Scientific',\n",
       "       'Computers&Accessories|NetworkingDevices|Repeaters&Extenders',\n",
       "       'Electronics|Cameras&Photography|Accessories|Tripods&Monopods|TripodLegs',\n",
       "       'Computers&Accessories|Printers,Inks&Accessories|Inks,Toners&Cartridges|InkjetInkCartridges',\n",
       "       'Computers&Accessories|Accessories&Peripherals|Keyboards,Mice&InputDevices|Keyboard&MiceAccessories|DustCovers',\n",
       "       'Computers&Accessories|Accessories&Peripherals|PCGamingPeripherals|GamingMice',\n",
       "       'Home&Kitchen|CraftMaterials|PaintingMaterials|Paints',\n",
       "       'Computers&Accessories|Accessories&Peripherals|Keyboards,Mice&InputDevices|Keyboard&MiceAccessories|MousePads',\n",
       "       'Computers&Accessories|Accessories&Peripherals|HardDiskBags',\n",
       "       'Electronics|Cameras&Photography|Flashes|Macro&RinglightFlashes',\n",
       "       'Computers&Accessories|NetworkingDevices',\n",
       "       'Computers&Accessories|NetworkingDevices|Routers',\n",
       "       'Electronics|Headphones,Earbuds&Accessories|Headphones|Over-Ear',\n",
       "       'Electronics|HomeAudio|Speakers|BluetoothSpeakers',\n",
       "       'Electronics|GeneralPurposeBatteries&BatteryChargers',\n",
       "       'OfficeProducts|OfficePaperProducts|Paper|Stationery|Notebooks,WritingPads&Diaries|WireboundNotebooks',\n",
       "       'Electronics|GeneralPurposeBatteries&BatteryChargers|RechargeableBatteries',\n",
       "       'Computers&Accessories|NetworkingDevices|NetworkAdapters|BluetoothAdapters',\n",
       "       'Computers&Accessories|Accessories&Peripherals|Adapters|USBtoUSBAdapters',\n",
       "       'Electronics|Cameras&Photography|Accessories|Tripods&Monopods|CompleteTripodUnits',\n",
       "       'OfficeProducts|OfficePaperProducts|Paper|Stationery|Notebooks,WritingPads&Diaries|Notepads&MemoBooks',\n",
       "       'Electronics|Cameras&Photography|Accessories|Film',\n",
       "       'Computers&Accessories|Monitors',\n",
       "       'Computers&Accessories|Accessories&Peripherals|USBGadgets|Lamps',\n",
       "       'Electronics|Cameras&Photography|Accessories|Cleaners|CleaningKits',\n",
       "       'Electronics|Cameras&Photography|SecurityCameras|DomeCameras',\n",
       "       'Computers&Accessories|Accessories&Peripherals|TabletAccessories|ScreenProtectors',\n",
       "       'Computers&Accessories|Accessories&Peripherals|PCGamingPeripherals|Gamepads',\n",
       "       'OfficeProducts|OfficeElectronics|Calculators|Basic',\n",
       "       'Computers&Accessories|Accessories&Peripherals|USBHubs',\n",
       "       'Computers&Accessories|Accessories&Peripherals|Audio&VideoAccessories|PCMicrophones',\n",
       "       'Electronics|HomeAudio|Speakers|OutdoorSpeakers',\n",
       "       'Computers&Accessories|Accessories&Peripherals|LaptopAccessories|Bags&Sleeves|LaptopSleeves&Slipcases',\n",
       "       'Computers&Accessories|ExternalDevices&DataStorage|ExternalMemoryCardReaders',\n",
       "       'OfficeProducts|OfficePaperProducts|Paper|Stationery|Pens,Pencils&WritingSupplies|Pens&Refills|BottledInk',\n",
       "       'OfficeProducts|OfficePaperProducts|Paper|Stationery|Notebooks,WritingPads&Diaries|CompositionNotebooks',\n",
       "       'OfficeProducts|OfficePaperProducts|Paper|Stationery|Pens,Pencils&WritingSupplies|Pens&Refills|RetractableBallpointPens',\n",
       "       'Computers&Accessories|Accessories&Peripherals|Cables&Accessories|Cables|EthernetCables',\n",
       "       'Computers&Accessories|Components|Memory',\n",
       "       'Computers&Accessories|Accessories&Peripherals|UninterruptedPowerSupplies',\n",
       "       'Electronics|Headphones,Earbuds&Accessories|Cases',\n",
       "       'Electronics|Accessories|MemoryCards|SecureDigitalCards',\n",
       "       'Electronics|Mobiles&Accessories|MobileAccessories|Photo&VideoAccessories|Flashes&SelfieLights|SelfieLights',\n",
       "       'Computers&Accessories|Accessories&Peripherals|Audio&VideoAccessories|Webcams&VoIPEquipment|Webcams',\n",
       "       'Computers&Accessories|Accessories&Peripherals|LaptopAccessories|CoolingPads',\n",
       "       'Computers&Accessories|Accessories&Peripherals|LaptopAccessories',\n",
       "       'Computers&Accessories|Accessories&Peripherals|TabletAccessories|Stands',\n",
       "       'HomeImprovement|Electrical|Adapters&Multi-Outlets',\n",
       "       'OfficeProducts|OfficePaperProducts|Paper|Copy&PrintingPaper|ColouredPaper',\n",
       "       'Computers&Accessories|Components|InternalSolidStateDrives',\n",
       "       'Electronics|HomeAudio|Speakers|MultimediaSpeakerSystems',\n",
       "       'Computers&Accessories|NetworkingDevices|DataCards&Dongles',\n",
       "       'Computers&Accessories|Accessories&Peripherals|LaptopAccessories|LaptopChargers&PowerSupplies',\n",
       "       'Computers&Accessories|Accessories&Peripherals|Audio&VideoAccessories|PCSpeakers',\n",
       "       'Electronics|Cameras&Photography|Accessories|Batteries&Chargers|BatteryChargers',\n",
       "       'Computers&Accessories|Accessories&Peripherals|TabletAccessories|Bags,Cases&Sleeves|Cases',\n",
       "       'OfficeProducts|OfficePaperProducts|Paper|Stationery|Pens,Pencils&WritingSupplies|Pens&Refills|StickBallpointPens',\n",
       "       'Home&Kitchen|CraftMaterials|DrawingMaterials|DrawingMedia|Pencils|WoodenPencils',\n",
       "       'Computers&Accessories|Components|InternalHardDrives',\n",
       "       'Computers&Accessories|Printers,Inks&Accessories|Printers',\n",
       "       'Home&Kitchen|CraftMaterials|DrawingMaterials|DrawingMedia|Pens',\n",
       "       'Computers&Accessories|Accessories&Peripherals|Cables&Accessories|Cables|SATACables',\n",
       "       'Computers&Accessories|Accessories&Peripherals|Audio&VideoAccessories|PCHeadsets',\n",
       "       'Computers&Accessories|Accessories&Peripherals|PCGamingPeripherals|GamingKeyboards',\n",
       "       'Electronics|HomeAudio|Speakers|SoundbarSpeakers',\n",
       "       'Electronics|Headphones,Earbuds&Accessories|Earpads',\n",
       "       'Computers&Accessories|Printers,Inks&Accessories|Printers|InkjetPrinters',\n",
       "       'Toys&Games|Arts&Crafts|Drawing&PaintingSupplies|ColouringPens&Markers',\n",
       "       'Computers&Accessories|Accessories&Peripherals|PCGamingPeripherals|Headsets',\n",
       "       'Computers&Accessories|ExternalDevices&DataStorage|ExternalSolidStateDrives',\n",
       "       'Computers&Accessories|NetworkingDevices|NetworkAdapters|PowerLANAdapters',\n",
       "       'Computers&Accessories|Printers,Inks&Accessories|Inks,Toners&Cartridges|InkjetInkRefills&Kits',\n",
       "       'OfficeProducts|OfficePaperProducts|Paper|Stationery|Notebooks,WritingPads&Diaries',\n",
       "       'Electronics|Cameras&Photography|Accessories|PhotoStudio&Lighting|PhotoBackgroundAccessories|BackgroundSupports',\n",
       "       'OfficeProducts|OfficeElectronics|Calculators|Financial&Business',\n",
       "       'Electronics|PowerAccessories|SurgeProtectors',\n",
       "       'Computers&Accessories|Tablets',\n",
       "       'HomeImprovement|Electrical|CordManagement',\n",
       "       'Home&Kitchen|CraftMaterials|PaintingMaterials',\n",
       "       'Computers&Accessories|Printers,Inks&Accessories|Inks,Toners&Cartridges|TonerCartridges',\n",
       "       'OfficeProducts|OfficePaperProducts|Paper|Stationery|Pens,Pencils&WritingSupplies|Pens&Refills|LiquidInkRollerballPens',\n",
       "       'OfficeProducts|OfficePaperProducts|Paper|Stationery|Pens,Pencils&WritingSupplies|Pens&Refills|FountainPens',\n",
       "       'Computers&Accessories|Accessories&Peripherals|HardDriveAccessories|Caddies',\n",
       "       'Computers&Accessories|Laptops|TraditionalLaptops',\n",
       "       'Home&Kitchen|Kitchen&HomeAppliances|SmallKitchenAppliances|Kettles&HotWaterDispensers|ElectricKettles',\n",
       "       'Home&Kitchen|Heating,Cooling&AirQuality|RoomHeaters|ElectricHeaters',\n",
       "       'Home&Kitchen|Heating,Cooling&AirQuality|RoomHeaters|FanHeaters',\n",
       "       'Home&Kitchen|Kitchen&HomeAppliances|Vacuum,Cleaning&Ironing|Irons,Steamers&Accessories|LintShavers',\n",
       "       'Home&Kitchen|Kitchen&HomeAppliances|SmallKitchenAppliances|DigitalKitchenScales',\n",
       "       'Home&Kitchen|Kitchen&Dining|KitchenTools|ManualChoppers&Chippers|Choppers',\n",
       "       'Home&Kitchen|Kitchen&HomeAppliances|SmallKitchenAppliances|InductionCooktop',\n",
       "       'Home&Kitchen|Kitchen&HomeAppliances|SmallKitchenAppliances|HandBlenders',\n",
       "       'Home&Kitchen|Kitchen&HomeAppliances|Vacuum,Cleaning&Ironing|Irons,Steamers&Accessories|Irons|DryIrons',\n",
       "       'Home&Kitchen|Kitchen&HomeAppliances|SmallKitchenAppliances|MixerGrinders',\n",
       "       'Home&Kitchen|Heating,Cooling&AirQuality|WaterHeaters&Geysers|InstantWaterHeaters',\n",
       "       'Home&Kitchen|Heating,Cooling&AirQuality|RoomHeaters',\n",
       "       'Home&Kitchen|Kitchen&HomeAppliances|SmallKitchenAppliances|Kettles&HotWaterDispensers|Kettle&ToasterSets',\n",
       "       'Home&Kitchen|Heating,Cooling&AirQuality|WaterHeaters&Geysers|StorageWaterHeaters',\n",
       "       'Home&Kitchen|Heating,Cooling&AirQuality|WaterHeaters&Geysers|ImmersionRods',\n",
       "       'Home&Kitchen|Kitchen&HomeAppliances|SmallKitchenAppliances|DeepFatFryers|AirFryers',\n",
       "       'Home&Kitchen|HomeStorage&Organization|LaundryOrganization|LaundryBaskets',\n",
       "       'Home&Kitchen|Kitchen&HomeAppliances|Vacuum,Cleaning&Ironing|Irons,Steamers&Accessories|Irons|SteamIrons',\n",
       "       'Home&Kitchen|Kitchen&HomeAppliances|SmallKitchenAppliances|JuicerMixerGrinders',\n",
       "       'Home&Kitchen|Kitchen&HomeAppliances|Vacuum,Cleaning&Ironing|Vacuums&FloorCare|Vacuums|HandheldVacuums',\n",
       "       'Home&Kitchen|Kitchen&HomeAppliances|SmallKitchenAppliances|EggBoilers',\n",
       "       'Home&Kitchen|Kitchen&HomeAppliances|SmallKitchenAppliances|SandwichMakers',\n",
       "       'Home&Kitchen|Kitchen&HomeAppliances|SmallKitchenAppliances|MiniFoodProcessors&Choppers',\n",
       "       'Home&Kitchen|Kitchen&HomeAppliances|SmallKitchenAppliances|DigitalKitchenScales|DigitalScales',\n",
       "       'Home&Kitchen|Kitchen&HomeAppliances|SmallKitchenAppliances|VacuumSealers',\n",
       "       'Home&Kitchen|Heating,Cooling&AirQuality|Fans|CeilingFans',\n",
       "       'Home&Kitchen|Kitchen&HomeAppliances|Vacuum,Cleaning&Ironing|Vacuums&FloorCare|Vacuums|CanisterVacuums',\n",
       "       'Home&Kitchen|Kitchen&HomeAppliances|Vacuum,Cleaning&Ironing|PressureWashers,Steam&WindowCleaners',\n",
       "       'Home&Kitchen|Heating,Cooling&AirQuality|RoomHeaters|HalogenHeaters',\n",
       "       'Home&Kitchen|Kitchen&HomeAppliances|SmallKitchenAppliances|Pop-upToasters',\n",
       "       'Home&Kitchen|Heating,Cooling&AirQuality|RoomHeaters|HeatConvectors',\n",
       "       'Home&Kitchen|Kitchen&HomeAppliances|Coffee,Tea&Espresso|CoffeeGrinders|ElectricGrinders',\n",
       "       'Home&Kitchen|Heating,Cooling&AirQuality|Fans|ExhaustFans',\n",
       "       'Home&Kitchen|Kitchen&HomeAppliances|Coffee,Tea&Espresso|DripCoffeeMachines',\n",
       "       'Home&Kitchen|Kitchen&HomeAppliances|WaterPurifiers&Accessories|WaterPurifierAccessories',\n",
       "       'Home&Kitchen|Kitchen&HomeAppliances|WaterPurifiers&Accessories|WaterCartridges',\n",
       "       'Home&Kitchen|Kitchen&HomeAppliances|SmallKitchenAppliances|Rice&PastaCookers',\n",
       "       'Car&Motorbike|CarAccessories|InteriorAccessories|AirPurifiers&Ionizers',\n",
       "       'Home&Kitchen|Kitchen&HomeAppliances|Vacuum,Cleaning&Ironing|Vacuums&FloorCare|Vacuums|Wet-DryVacuums',\n",
       "       'Home&Kitchen|Heating,Cooling&AirQuality|AirPurifiers|HEPAAirPurifiers',\n",
       "       'Home&Kitchen|Kitchen&HomeAppliances|WaterPurifiers&Accessories|WaterFilters&Purifiers',\n",
       "       'Home&Kitchen|HomeStorage&Organization|LaundryOrganization|LaundryBags',\n",
       "       'Home&Kitchen|Kitchen&HomeAppliances|SewingMachines&Accessories|Sewing&EmbroideryMachines',\n",
       "       'Home&Kitchen|HomeStorage&Organization|LaundryOrganization|IroningAccessories|SprayBottles',\n",
       "       'Home&Kitchen|Kitchen&HomeAppliances|SmallKitchenAppliances|HandMixers',\n",
       "       'Home&Kitchen|Kitchen&HomeAppliances|SmallKitchenAppliances|Mills&Grinders|WetGrinders',\n",
       "       'Home&Kitchen|Kitchen&HomeAppliances|SmallKitchenAppliances|OvenToasterGrills',\n",
       "       'Home&Kitchen|Kitchen&HomeAppliances|SmallKitchenAppliances|Juicers',\n",
       "       'Home&Kitchen|Kitchen&HomeAppliances|SmallKitchenAppliances',\n",
       "       'Health&PersonalCare|HomeMedicalSupplies&Equipment|HealthMonitors|WeighingScales|DigitalBathroomScales',\n",
       "       'Home&Kitchen|Kitchen&HomeAppliances|Coffee,Tea&Espresso|EspressoMachines',\n",
       "       'Home&Kitchen|Heating,Cooling&AirQuality|Fans|TableFans',\n",
       "       'Home&Kitchen|Kitchen&HomeAppliances|Coffee,Tea&Espresso|MilkFrothers',\n",
       "       'Home&Kitchen|Heating,Cooling&AirQuality|Humidifiers',\n",
       "       'Home&Kitchen|Kitchen&HomeAppliances|SmallKitchenAppliances|SmallApplianceParts&Accessories|StandMixerAccessories',\n",
       "       'Home&Kitchen|Kitchen&HomeAppliances|Vacuum,Cleaning&Ironing|Vacuums&FloorCare|Vacuums|RoboticVacuums',\n",
       "       'Home&Kitchen|Kitchen&HomeAppliances|SmallKitchenAppliances|YogurtMakers',\n",
       "       'Home&Kitchen|Kitchen&HomeAppliances|SmallKitchenAppliances|Juicers|ColdPressJuicers',\n",
       "       'Home&Kitchen|Heating,Cooling&AirQuality|AirConditioners|Split-SystemAirConditioners',\n",
       "       'Home&Kitchen|Kitchen&HomeAppliances|SmallKitchenAppliances|SmallApplianceParts&Accessories',\n",
       "       'Home&Kitchen|Kitchen&HomeAppliances|SmallKitchenAppliances|WaffleMakers&Irons',\n",
       "       'Home&Kitchen|Kitchen&HomeAppliances|Coffee,Tea&Espresso|StovetopEspressoPots',\n",
       "       'Home&Kitchen|Kitchen&HomeAppliances|Coffee,Tea&Espresso|CoffeeMakerAccessories|MeasuringSpoons',\n",
       "       'Home&Kitchen|Kitchen&HomeAppliances|Coffee,Tea&Espresso|CoffeePresses',\n",
       "       'Home&Kitchen|Kitchen&HomeAppliances|SmallKitchenAppliances|RotiMakers',\n",
       "       'Home&Kitchen|Heating,Cooling&AirQuality|Parts&Accessories|FanParts&Accessories',\n",
       "       'Home&Kitchen|Kitchen&HomeAppliances|SmallKitchenAppliances|StandMixers',\n",
       "       'Home&Kitchen|Heating,Cooling&AirQuality|Fans|PedestalFans',\n",
       "       'Home&Kitchen|Kitchen&HomeAppliances|Vacuum,Cleaning&Ironing|Vacuums&FloorCare|VacuumAccessories|VacuumBags|HandheldBags'],\n",
       "      dtype=object)"
      ]
     },
     "execution_count": 74,
     "metadata": {},
     "output_type": "execute_result"
    }
   ],
   "source": [
    "df2['category'].unique()"
   ]
  },
  {
   "cell_type": "code",
   "execution_count": 75,
   "id": "6fff2350",
   "metadata": {},
   "outputs": [
    {
     "data": {
      "text/plain": [
       "211"
      ]
     },
     "execution_count": 75,
     "metadata": {},
     "output_type": "execute_result"
    }
   ],
   "source": [
    "df2['category'].nunique()"
   ]
  },
  {
   "cell_type": "code",
   "execution_count": 77,
   "id": "e373e246",
   "metadata": {},
   "outputs": [],
   "source": [
    "# Extract the high level categories\n",
    "df2['super category'] = df2['category'].apply(lambda x: x.split('|')[0])"
   ]
  },
  {
   "cell_type": "code",
   "execution_count": 79,
   "id": "797a72c2",
   "metadata": {},
   "outputs": [
    {
     "data": {
      "text/html": [
       "<div>\n",
       "<style scoped>\n",
       "    .dataframe tbody tr th:only-of-type {\n",
       "        vertical-align: middle;\n",
       "    }\n",
       "\n",
       "    .dataframe tbody tr th {\n",
       "        vertical-align: top;\n",
       "    }\n",
       "\n",
       "    .dataframe thead th {\n",
       "        text-align: right;\n",
       "    }\n",
       "</style>\n",
       "<table border=\"1\" class=\"dataframe\">\n",
       "  <thead>\n",
       "    <tr style=\"text-align: right;\">\n",
       "      <th></th>\n",
       "      <th>product_name</th>\n",
       "      <th>category</th>\n",
       "      <th>discounted_price (₦)</th>\n",
       "      <th>actual_price (₦)</th>\n",
       "      <th>discount_percentage %</th>\n",
       "      <th>rating</th>\n",
       "      <th>rating_count</th>\n",
       "      <th>super category</th>\n",
       "    </tr>\n",
       "  </thead>\n",
       "  <tbody>\n",
       "    <tr>\n",
       "      <th>0</th>\n",
       "      <td>Wayona Nylon Braided USB to Lightning Fast Cha...</td>\n",
       "      <td>Computers&amp;Accessories|Accessories&amp;Peripherals|...</td>\n",
       "      <td>399.0</td>\n",
       "      <td>1099.0</td>\n",
       "      <td>64</td>\n",
       "      <td>4.2</td>\n",
       "      <td>24269.0</td>\n",
       "      <td>Computers&amp;Accessories</td>\n",
       "    </tr>\n",
       "  </tbody>\n",
       "</table>\n",
       "</div>"
      ],
      "text/plain": [
       "                                        product_name  \\\n",
       "0  Wayona Nylon Braided USB to Lightning Fast Cha...   \n",
       "\n",
       "                                            category  discounted_price (₦)  \\\n",
       "0  Computers&Accessories|Accessories&Peripherals|...                 399.0   \n",
       "\n",
       "   actual_price (₦)  discount_percentage %  rating  rating_count  \\\n",
       "0            1099.0                     64     4.2       24269.0   \n",
       "\n",
       "          super category  \n",
       "0  Computers&Accessories  "
      ]
     },
     "execution_count": 79,
     "metadata": {},
     "output_type": "execute_result"
    }
   ],
   "source": [
    "df2.head(1)"
   ]
  },
  {
   "cell_type": "code",
   "execution_count": 80,
   "id": "5035c29a",
   "metadata": {},
   "outputs": [
    {
     "data": {
      "text/plain": [
       "array(['Computers&Accessories', 'Electronics', 'MusicalInstruments',\n",
       "       'OfficeProducts', 'Home&Kitchen', 'HomeImprovement', 'Toys&Games',\n",
       "       'Car&Motorbike', 'Health&PersonalCare'], dtype=object)"
      ]
     },
     "execution_count": 80,
     "metadata": {},
     "output_type": "execute_result"
    }
   ],
   "source": [
    "df2['super category'].unique()"
   ]
  },
  {
   "cell_type": "code",
   "execution_count": 82,
   "id": "078da7d0",
   "metadata": {},
   "outputs": [
    {
     "data": {
      "text/plain": [
       "'Electronics'"
      ]
     },
     "execution_count": 82,
     "metadata": {},
     "output_type": "execute_result"
    }
   ],
   "source": [
    "# x = 'Electronics|HomeTheater,TV&Video|Accessories|Cables|RCACables'\n",
    "# x.split('|')[0]"
   ]
  },
  {
   "cell_type": "code",
   "execution_count": 83,
   "id": "84b3e34c",
   "metadata": {},
   "outputs": [],
   "source": [
    "by_super_category = df2.groupby(\"super category\")"
   ]
  },
  {
   "cell_type": "code",
   "execution_count": 85,
   "id": "016e648d",
   "metadata": {},
   "outputs": [
    {
     "data": {
      "text/plain": [
       "<pandas.core.groupby.generic.DataFrameGroupBy object at 0x0000024D6510DED0>"
      ]
     },
     "execution_count": 85,
     "metadata": {},
     "output_type": "execute_result"
    }
   ],
   "source": [
    "by_super_category"
   ]
  },
  {
   "cell_type": "code",
   "execution_count": 90,
   "id": "041a2307",
   "metadata": {},
   "outputs": [
    {
     "data": {
      "text/plain": [
       "super category\n",
       "Car&Motorbike               2339.00\n",
       "Computers&Accessories     359019.99\n",
       "Electronics              3033662.00\n",
       "Health&PersonalCare          899.00\n",
       "Home&Kitchen             1044115.81\n",
       "HomeImprovement              674.00\n",
       "MusicalInstruments          1276.00\n",
       "OfficeProducts              9349.00\n",
       "Toys&Games                   150.00\n",
       "Name: discounted_price (₦), dtype: float64"
      ]
     },
     "execution_count": 90,
     "metadata": {},
     "output_type": "execute_result"
    }
   ],
   "source": [
    "by_super_category['discounted_price (₦)'].sum()"
   ]
  },
  {
   "cell_type": "code",
   "execution_count": null,
   "id": "614d0884",
   "metadata": {},
   "outputs": [],
   "source": []
  }
 ],
 "metadata": {
  "kernelspec": {
   "display_name": "Python 3 (ipykernel)",
   "language": "python",
   "name": "python3"
  },
  "language_info": {
   "codemirror_mode": {
    "name": "ipython",
    "version": 3
   },
   "file_extension": ".py",
   "mimetype": "text/x-python",
   "name": "python",
   "nbconvert_exporter": "python",
   "pygments_lexer": "ipython3",
   "version": "3.9.13"
  }
 },
 "nbformat": 4,
 "nbformat_minor": 5
}
